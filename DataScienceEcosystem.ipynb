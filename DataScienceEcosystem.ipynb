{
 "cells": [
  {
   "cell_type": "markdown",
   "id": "5917c51c-f94b-4d89-aa37-c1d2a0143100",
   "metadata": {},
   "source": [
    "# Data Science Tools and Ecosystem"
   ]
  },
  {
   "cell_type": "markdown",
   "id": "8dc97e27-54dd-442d-9858-fcfd86c9da34",
   "metadata": {},
   "source": [
    "In this notebook, Data Science Tools and Ecosystem are summarized."
   ]
  },
  {
   "cell_type": "markdown",
   "id": "28340163-ab07-4944-b0a3-8ae3794d06ba",
   "metadata": {},
   "source": [
    "**Objectives**\n",
    "- List popular Data Science languages\n",
    "- List commonly used Data Science libraries\n",
    "- List popular Data Science tools\n",
    "- Show some arithmetic operations in Python  "
   ]
  },
  {
   "cell_type": "markdown",
   "id": "581c0e30-7d56-4d3a-94aa-6bbaefe664a1",
   "metadata": {},
   "source": [
    "### Top Data Science Languages"
   ]
  },
  {
   "cell_type": "markdown",
   "id": "70863a60-20a9-479c-817c-8affe2bbef0a",
   "metadata": {},
   "source": [
    "1. Python\n",
    "2. R\n",
    "3. SQL\n",
    "4. Scala\n",
    "5. Julia"
   ]
  },
  {
   "cell_type": "markdown",
   "id": "9132e7b2-c819-414b-976a-b7a98a5bf622",
   "metadata": {},
   "source": [
    "### Commonly used Data Science libraries"
   ]
  },
  {
   "cell_type": "markdown",
   "id": "6c2681d4-70bb-46ea-9e19-1d2fe6d45697",
   "metadata": {},
   "source": [
    "1. Pandas\n",
    "2. Matplotlib\n",
    "3.Scikit-learn\n",
    "4. Pytorch\n",
    "5. ggplot2"
   ]
  },
  {
   "cell_type": "markdown",
   "id": "a5f59b73-fe20-4710-a675-941d0d2ed6ba",
   "metadata": {},
   "source": [
    "|Data Science Tools|\n",
    "--------------------\n",
    "|Apache Airflow|\n",
    "|Kibana|\n",
    "|Apache Kafka|\n"
   ]
  },
  {
   "cell_type": "markdown",
   "id": "0bd921cd-fb95-4d21-a54f-ee803f58f133",
   "metadata": {},
   "source": [
    "### Evaluating arithmetic expressions in python"
   ]
  },
  {
   "cell_type": "code",
   "execution_count": 23,
   "id": "4b9a0095-229c-44e9-8ecf-8bae02cb5935",
   "metadata": {},
   "outputs": [
    {
     "data": {
      "text/plain": [
       "17"
      ]
     },
     "execution_count": 23,
     "metadata": {},
     "output_type": "execute_result"
    }
   ],
   "source": [
    "#This is a simple arithmetic expression to mutiply then add integers\n",
    "(3*4)+5"
   ]
  },
  {
   "cell_type": "code",
   "execution_count": 21,
   "id": "e29e7db9-202d-4f30-8217-b2ab2fdaea57",
   "metadata": {},
   "outputs": [
    {
     "data": {
      "text/plain": [
       "3.3333333333333335"
      ]
     },
     "execution_count": 21,
     "metadata": {},
     "output_type": "execute_result"
    }
   ],
   "source": [
    "#This will convert 200 minutes to hours by diving by 60\n",
    "200/60"
   ]
  },
  {
   "cell_type": "markdown",
   "id": "e29a43d7-5737-4a53-91a8-37bdc97105e8",
   "metadata": {},
   "source": [
    "## Author\n",
    "**Gabriel Silva de Melo**"
   ]
  }
 ],
 "metadata": {
  "kernelspec": {
   "display_name": "Python 3 (ipykernel)",
   "language": "python",
   "name": "python3"
  },
  "language_info": {
   "codemirror_mode": {
    "name": "ipython",
    "version": 3
   },
   "file_extension": ".py",
   "mimetype": "text/x-python",
   "name": "python",
   "nbconvert_exporter": "python",
   "pygments_lexer": "ipython3",
   "version": "3.12.4"
  }
 },
 "nbformat": 4,
 "nbformat_minor": 5
}
